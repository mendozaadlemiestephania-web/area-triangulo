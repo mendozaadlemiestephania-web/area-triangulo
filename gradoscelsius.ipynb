{
 "cells": [
  {
   "cell_type": "code",
   "execution_count": 6,
   "metadata": {},
   "outputs": [
    {
     "name": "stdout",
     "output_type": "stream",
     "text": [
      "Grados Fahrenheit: [80, 72, 95, 82, 79, 72, 85]\n",
      "Grados Celsius: [26.67, 22.22, 35.0, 27.78, 26.11, 22.22, 29.44]\n"
     ]
    }
   ],
   "source": [
    "temp = [80, 72, 95, 82, 79, 72, 85]   # Lista en Fahrenheit\n",
    "nueva = []                            # Lista vacía\n",
    "\n",
    "for t in temp:\n",
    "    c = (t - 32) * 5/9                 # Fórmula de conversión\n",
    "    nueva.append(round(c, 2))          # Agregar a la lista\n",
    "\n",
    "print(\"Grados Fahrenheit:\", temp)\n",
    "print(\"Grados Celsius:\", nueva) "
   ]
  }
 ],
 "metadata": {
  "kernelspec": {
   "display_name": "base",
   "language": "python",
   "name": "python3"
  },
  "language_info": {
   "codemirror_mode": {
    "name": "ipython",
    "version": 3
   },
   "file_extension": ".py",
   "mimetype": "text/x-python",
   "name": "python",
   "nbconvert_exporter": "python",
   "pygments_lexer": "ipython3",
   "version": "3.12.4"
  }
 },
 "nbformat": 4,
 "nbformat_minor": 2
}
