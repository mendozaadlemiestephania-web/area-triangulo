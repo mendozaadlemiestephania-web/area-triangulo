{
 "cells": [
  {
   "cell_type": "code",
   "execution_count": 15,
   "id": "ee8a4662",
   "metadata": {},
   "outputs": [
    {
     "name": "stdout",
     "output_type": "stream",
     "text": [
      "La base del triángulo es: 10.0\n",
      "La altura del triángulo es: 6.0\n",
      "El área del triángulo es: 30.0\n"
     ]
    }
   ],
   "source": [
    "class AREATRIANGULO:\n",
    "\n",
    "    def datos(self):\n",
    "        self.b = float(input(\"Dame la base del triángulo: \"))\n",
    "        self.a = float(input(\"Ahora la altura del triángulo: \"))\n",
    "   \n",
    "    def area(self):\n",
    "        self.area_calculada = (self.b * self.a) / 2\n",
    "        return self.area_calculada\n",
    "        \n",
    "    def resultado(self):\n",
    "        area_resultado = self.area()\n",
    "        print(f\"La base del triángulo es: {self.b}\")\n",
    "        print(f\"La altura del triángulo es: {self.a}\")\n",
    "        print(f\"El área del triángulo es: {area_resultado}\")\n",
    "\n",
    "triangulo = AREATRIANGULO()\n",
    "triangulo.datos()\n",
    "triangulo.resultado()"
   ]
  }
 ],
 "metadata": {
  "kernelspec": {
   "display_name": "Python 3",
   "language": "python",
   "name": "python3"
  },
  "language_info": {
   "codemirror_mode": {
    "name": "ipython",
    "version": 3
   },
   "file_extension": ".py",
   "mimetype": "text/x-python",
   "name": "python",
   "nbconvert_exporter": "python",
   "pygments_lexer": "ipython3",
   "version": "3.11.9"
  }
 },
 "nbformat": 4,
 "nbformat_minor": 5
}
