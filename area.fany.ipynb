{
 "cells": [
  {
   "cell_type": "code",
   "execution_count": 10,
   "id": "886e661a",
   "metadata": {},
   "outputs": [
    {
     "name": "stdout",
     "output_type": "stream",
     "text": [
      "el área del triángulo es: 37.5\n"
     ]
    }
   ],
   "source": [
    "class Triangulo:\n",
    "\n",
    "    def datos(self):\n",
    "        self.b = float(input(\"dame la base del triángulo: \"))\n",
    "        self.a = float(input(\"dame la altura del triángulo: \"))\n",
    "\n",
    "    def area(self):\n",
    "        self.area = (self.b * self.a) / 2\n",
    "\n",
    "    def resultado(self):\n",
    "        print(f\"el área del triángulo es: {self.area}\")\n",
    "\n",
    "a = Triangulo()\n",
    "a.datos()\n",
    "a.area()\n",
    "a.resultado()"
   ]
  }
 ],
 "metadata": {
  "kernelspec": {
   "display_name": "Python 3",
   "language": "python",
   "name": "python3"
  },
  "language_info": {
   "codemirror_mode": {
    "name": "ipython",
    "version": 3
   },
   "file_extension": ".py",
   "mimetype": "text/x-python",
   "name": "python",
   "nbconvert_exporter": "python",
   "pygments_lexer": "ipython3",
   "version": "3.11.9"
  }
 },
 "nbformat": 4,
 "nbformat_minor": 5
}
