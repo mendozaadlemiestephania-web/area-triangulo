{
 "cells": [
  {
   "cell_type": "code",
   "execution_count": 3,
   "metadata": {},
   "outputs": [
    {
     "name": "stdout",
     "output_type": "stream",
     "text": [
      "{'Nombre': 'Fany', 'Edad': 16, 'Matricula': 231690213, 'Peso': 45, 'Carrera': 'cdia', 'telefono': 3112560313, 'domicilio': 'Villa de monaco #10'}\n",
      "Nombre Fany\n",
      "Edad 16\n",
      "Matricula 231690213\n",
      "Peso 45\n",
      "Carrera cdia\n",
      "telefono 3112560313\n",
      "domicilio Villa de monaco #10\n",
      "La alumna Fany Vive en villa de monaco\n",
      "La ulmna tiene 16 Es adolescente\n"
     ]
    }
   ],
   "source": [
    "dp ={\n",
    "    \"Nombre\":\"Fany\",\n",
    "    \"Edad\":16,\n",
    "    \"Matricula\":231690221-8,\n",
    "    \"Peso\":45,\n",
    "    \"Carrera\": \"cdia\",\n",
    "    \"telefono\": 3112560313,\n",
    "    \"domicilio\": \"Villa de monaco #10\"\n",
    "}\n",
    "\n",
    "print (dp)\n",
    "for x in dp:\n",
    "    print(x,dp[x])\n",
    "print(\"La alumna\",dp[\"Nombre\"],\"Vive en villa de monaco\")\n",
    "print(\"La ulmna tiene\",dp[\"Edad\"],\"Es adolescente\")"
   ]
  },
  {
   "cell_type": "code",
   "execution_count": null,
   "metadata": {},
   "outputs": [],
   "source": [
    "2"
   ]
  }
 ],
 "metadata": {
  "kernelspec": {
   "display_name": "base",
   "language": "python",
   "name": "python3"
  },
  "language_info": {
   "codemirror_mode": {
    "name": "ipython",
    "version": 3
   },
   "file_extension": ".py",
   "mimetype": "text/x-python",
   "name": "python",
   "nbconvert_exporter": "python",
   "pygments_lexer": "ipython3",
   "version": "3.12.4"
  }
 },
 "nbformat": 4,
 "nbformat_minor": 2
}
